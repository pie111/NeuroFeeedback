{
 "cells": [
  {
   "cell_type": "code",
   "execution_count": 2,
   "id": "c51272f2",
   "metadata": {},
   "outputs": [],
   "source": [
    "import numpy as np # linear algebra\n",
    "import pandas as pd # data processing, CSV file I/O (e.g. pd.read_csv)\n",
    "from sklearn.preprocessing import StandardScaler\n",
    "from sklearn.model_selection import train_test_split, GridSearchCV\n",
    "from sklearn.feature_selection import mutual_info_classif\n",
    "import matplotlib.pyplot as plt\n",
    "%matplotlib inline\n",
    "import seaborn as sns"
   ]
  },
  {
   "cell_type": "code",
   "execution_count": 6,
   "id": "7e37a99b",
   "metadata": {},
   "outputs": [
    {
     "name": "stdout",
     "output_type": "stream",
     "text": [
      "C:\\Users\\prana\\Desktop\\PROJECT\\emotions.csv\n",
      "C:\\Users\\prana\\Desktop\\PROJECT\\emotions.csv.zip\n",
      "C:\\Users\\prana\\Desktop\\PROJECT\\prediction-emotion-from-eeg-signal.ipynb\n",
      "C:\\Users\\prana\\Desktop\\PROJECT\\S01T.csv.mat\n",
      "C:\\Users\\prana\\Desktop\\PROJECT\\Untitled.ipynb\n",
      "C:\\Users\\prana\\Desktop\\PROJECT\\__results___16_0.png\n",
      "C:\\Users\\prana\\Desktop\\PROJECT\\__results___4_0.png\n",
      "C:\\Users\\prana\\Desktop\\PROJECT\\.ipynb_checkpoints\\prediction-emotion-from-eeg-signal-checkpoint.ipynb\n",
      "C:\\Users\\prana\\Desktop\\PROJECT\\.ipynb_checkpoints\\Untitled-checkpoint.ipynb\n"
     ]
    }
   ],
   "source": [
    "import os\n",
    "for dirname, _, filenames in os.walk(r\"C:\\Users\\prana\\Desktop\\PROJECT\"):\n",
    "    for filename in filenames:\n",
    "        print(os.path.join(dirname, filename))"
   ]
  },
  {
   "cell_type": "code",
   "execution_count": 8,
   "id": "9983b59e",
   "metadata": {},
   "outputs": [],
   "source": [
    "df=pd.read_csv(r\"C:\\Users\\prana\\Desktop\\PROJECT\\emotions.csv\")\n"
   ]
  },
  {
   "cell_type": "code",
   "execution_count": 9,
   "id": "2668be06",
   "metadata": {},
   "outputs": [
    {
     "data": {
      "text/plain": [
       "(2132, 2549)"
      ]
     },
     "execution_count": 9,
     "metadata": {},
     "output_type": "execute_result"
    }
   ],
   "source": [
    "df.shape"
   ]
  },
  {
   "cell_type": "code",
   "execution_count": 10,
   "id": "9f30d696",
   "metadata": {},
   "outputs": [
    {
     "data": {
      "text/plain": [
       "Index(['# mean_0_a', 'mean_1_a', 'mean_2_a', 'mean_3_a', 'mean_4_a',\n",
       "       'mean_d_0_a', 'mean_d_1_a', 'mean_d_2_a', 'mean_d_3_a', 'mean_d_4_a',\n",
       "       ...\n",
       "       'fft_741_b', 'fft_742_b', 'fft_743_b', 'fft_744_b', 'fft_745_b',\n",
       "       'fft_746_b', 'fft_747_b', 'fft_748_b', 'fft_749_b', 'label'],\n",
       "      dtype='object', length=2549)"
      ]
     },
     "execution_count": 10,
     "metadata": {},
     "output_type": "execute_result"
    }
   ],
   "source": [
    "df.columns"
   ]
  },
  {
   "cell_type": "code",
   "execution_count": 11,
   "id": "a490b52f",
   "metadata": {},
   "outputs": [
    {
     "data": {
      "text/plain": [
       "NEUTRAL     716\n",
       "NEGATIVE    708\n",
       "POSITIVE    708\n",
       "Name: label, dtype: int64"
      ]
     },
     "execution_count": 11,
     "metadata": {},
     "output_type": "execute_result"
    }
   ],
   "source": [
    "df['label'].value_counts()\n"
   ]
  },
  {
   "cell_type": "code",
   "execution_count": 12,
   "id": "96aacc3f",
   "metadata": {},
   "outputs": [],
   "source": [
    "for col in df.columns:\n",
    "    if(df[col].isnull().sum()>0):\n",
    "        print(col)"
   ]
  },
  {
   "cell_type": "code",
   "execution_count": 13,
   "id": "0dce3977",
   "metadata": {},
   "outputs": [
    {
     "name": "stdout",
     "output_type": "stream",
     "text": [
      "label\n"
     ]
    }
   ],
   "source": [
    "for col in df.columns:\n",
    "    if(df[col].dtype=='object'):\n",
    "        print(col)"
   ]
  },
  {
   "cell_type": "code",
   "execution_count": 14,
   "id": "1fb71d24",
   "metadata": {},
   "outputs": [],
   "source": [
    "df_fea=df.drop('label',axis=1)\n",
    "y=df['label']"
   ]
  },
  {
   "cell_type": "code",
   "execution_count": 15,
   "id": "5c6a8ffd",
   "metadata": {},
   "outputs": [],
   "source": [
    "mi_score=mutual_info_classif(df_fea,y)"
   ]
  },
  {
   "cell_type": "code",
   "execution_count": 16,
   "id": "6a8ecedb",
   "metadata": {},
   "outputs": [],
   "source": [
    "y=pd.get_dummies(df['label'])"
   ]
  },
  {
   "cell_type": "code",
   "execution_count": 17,
   "id": "8edac16d",
   "metadata": {},
   "outputs": [],
   "source": [
    "mi_score=pd.Series(mi_score,index=df_fea.columns)\n",
    "mi_score=(mi_score*100).sort_values(ascending=False)"
   ]
  },
  {
   "cell_type": "code",
   "execution_count": 18,
   "id": "65382746",
   "metadata": {},
   "outputs": [],
   "source": [
    "top_fea=mi_score[:-367].index "
   ]
  },
  {
   "cell_type": "code",
   "execution_count": 19,
   "id": "fa9ac915",
   "metadata": {},
   "outputs": [],
   "source": [
    "df_sc=StandardScaler().fit_transform(df_fea[top_fea])"
   ]
  },
  {
   "cell_type": "code",
   "execution_count": 20,
   "id": "d199b9e8",
   "metadata": {},
   "outputs": [],
   "source": [
    "Xtr,xte,Ytr,yte=train_test_split(df_sc,y,random_state=108,test_size=0.27)\n",
    "xtr,xval,ytr,yval=train_test_split(Xtr,Ytr,random_state=108,test_size=0.27)"
   ]
  },
  {
   "cell_type": "code",
   "execution_count": 21,
   "id": "5a3c396d",
   "metadata": {},
   "outputs": [],
   "source": [
    "import tensorflow as tf\n",
    "from tensorflow import keras\n",
    "from tensorflow.keras import callbacks,layers"
   ]
  },
  {
   "cell_type": "code",
   "execution_count": 22,
   "id": "1f2500a5",
   "metadata": {},
   "outputs": [],
   "source": [
    "model=keras.Sequential([\n",
    "    layers.Dense(units=2181,input_shape=(2181,),activation='relu'), #using the relu activation because it is great for hidden layers\n",
    "    layers.BatchNormalization(), #BatchNormalization layer scales the dataset even further\n",
    "    layers.Dropout(0.27), #Dropping-out the nodes to make our model more general\n",
    "    layers.Dense(units=3181,activation='relu'),\n",
    "    layers.BatchNormalization(),\n",
    "    layers.Dropout(0.3),  \n",
    "    layers.Dense(units=4181,activation='relu'),\n",
    "    layers.BatchNormalization(),\n",
    "    layers.Dropout(0.32),  \n",
    "    layers.Dense(units=2581,activation='relu'),\n",
    "    layers.BatchNormalization(),\n",
    "    layers.Dropout(0.27),  \n",
    "    layers.Dense(units=2381,activation='relu'),\n",
    "    layers.BatchNormalization(),\n",
    "    layers.Dropout(0.32),  \n",
    "    layers.Dense(units=2181,activation='relu'),\n",
    "    layers.BatchNormalization(),\n",
    "    layers.Dropout(0.27),  \n",
    "    layers.Dense(units=3,activation='softmax') #Softmax activation helps in multiclass-identification\n",
    "])"
   ]
  },
  {
   "cell_type": "code",
   "execution_count": 23,
   "id": "47cf877d",
   "metadata": {},
   "outputs": [
    {
     "name": "stdout",
     "output_type": "stream",
     "text": [
      "Epoch 1/50\n",
      "41/41 [==============================] - 19s 427ms/step - loss: 1.1619 - accuracy: 0.8203 - val_loss: 9.1892 - val_accuracy: 0.5819\n",
      "Epoch 2/50\n",
      "41/41 [==============================] - 16s 401ms/step - loss: 0.5738 - accuracy: 0.8775 - val_loss: 2.1634 - val_accuracy: 0.6770\n",
      "Epoch 3/50\n",
      "41/41 [==============================] - 16s 379ms/step - loss: 0.3657 - accuracy: 0.9110 - val_loss: 1.1164 - val_accuracy: 0.9097\n",
      "Epoch 4/50\n",
      "41/41 [==============================] - 16s 381ms/step - loss: 0.3270 - accuracy: 0.9066 - val_loss: 0.1844 - val_accuracy: 0.9335\n",
      "Epoch 5/50\n",
      "41/41 [==============================] - 16s 379ms/step - loss: 0.2377 - accuracy: 0.9189 - val_loss: 0.2488 - val_accuracy: 0.8836\n",
      "Epoch 6/50\n",
      "41/41 [==============================] - 15s 377ms/step - loss: 0.2819 - accuracy: 0.9137 - val_loss: 0.2390 - val_accuracy: 0.9145\n",
      "Epoch 7/50\n",
      "41/41 [==============================] - 15s 375ms/step - loss: 0.2061 - accuracy: 0.9357 - val_loss: 0.1887 - val_accuracy: 0.9406\n",
      "Epoch 8/50\n",
      "41/41 [==============================] - 15s 378ms/step - loss: 0.1764 - accuracy: 0.9401 - val_loss: 0.1922 - val_accuracy: 0.9169\n",
      "Epoch 9/50\n",
      "41/41 [==============================] - 16s 380ms/step - loss: 0.2161 - accuracy: 0.9269 - val_loss: 0.1056 - val_accuracy: 0.9549\n",
      "Epoch 10/50\n",
      "41/41 [==============================] - 15s 377ms/step - loss: 0.2032 - accuracy: 0.9366 - val_loss: 0.1106 - val_accuracy: 0.9572\n",
      "Epoch 11/50\n",
      "41/41 [==============================] - 16s 402ms/step - loss: 0.1556 - accuracy: 0.9454 - val_loss: 0.2006 - val_accuracy: 0.9359\n",
      "Epoch 12/50\n",
      "41/41 [==============================] - 19s 461ms/step - loss: 0.1752 - accuracy: 0.9480 - val_loss: 0.1637 - val_accuracy: 0.9240\n",
      "Epoch 13/50\n",
      "41/41 [==============================] - 18s 450ms/step - loss: 0.1097 - accuracy: 0.9692 - val_loss: 0.1555 - val_accuracy: 0.9501\n",
      "Epoch 14/50\n",
      "41/41 [==============================] - 18s 429ms/step - loss: 0.1230 - accuracy: 0.9612 - val_loss: 0.0595 - val_accuracy: 0.9834\n",
      "Epoch 15/50\n",
      "41/41 [==============================] - 18s 446ms/step - loss: 0.0705 - accuracy: 0.9692 - val_loss: 0.2030 - val_accuracy: 0.9406\n",
      "Epoch 16/50\n",
      "41/41 [==============================] - 16s 395ms/step - loss: 0.0754 - accuracy: 0.9736 - val_loss: 0.1349 - val_accuracy: 0.9549\n",
      "Epoch 17/50\n",
      "41/41 [==============================] - 17s 415ms/step - loss: 0.1016 - accuracy: 0.9700 - val_loss: 0.1727 - val_accuracy: 0.9454\n",
      "Epoch 18/50\n",
      "41/41 [==============================] - 19s 465ms/step - loss: 0.1285 - accuracy: 0.9604 - val_loss: 0.0635 - val_accuracy: 0.9810\n",
      "Epoch 19/50\n",
      "41/41 [==============================] - 17s 423ms/step - loss: 0.0560 - accuracy: 0.9771 - val_loss: 0.1021 - val_accuracy: 0.9667\n",
      "Epoch 20/50\n",
      "41/41 [==============================] - 17s 416ms/step - loss: 0.1396 - accuracy: 0.9656 - val_loss: 0.1385 - val_accuracy: 0.9596\n",
      "Epoch 21/50\n",
      "41/41 [==============================] - 17s 419ms/step - loss: 0.0908 - accuracy: 0.9656 - val_loss: 0.2048 - val_accuracy: 0.9359\n",
      "Epoch 22/50\n",
      "41/41 [==============================] - 17s 407ms/step - loss: 0.0491 - accuracy: 0.9833 - val_loss: 0.2334 - val_accuracy: 0.9311\n",
      "Epoch 23/50\n",
      "41/41 [==============================] - 16s 385ms/step - loss: 0.0578 - accuracy: 0.9797 - val_loss: 0.1268 - val_accuracy: 0.9667\n",
      "Epoch 24/50\n",
      "41/41 [==============================] - 16s 389ms/step - loss: 0.0462 - accuracy: 0.9841 - val_loss: 0.0960 - val_accuracy: 0.9667\n"
     ]
    }
   ],
   "source": [
    "adam=keras.optimizers.Adam(learning_rate=0.001, beta_1=0.9, beta_2=0.999, epsilon=1e-07)\n",
    "adamax=keras.optimizers.Adamax(learning_rate=0.00085, beta_1=0.9, beta_2=0.999, epsilon=1e-07) #These are just general code. you can find them easily in tensorflow API guide\n",
    "#Categorical_crossentropy will make sure if all the categories are getting identified\n",
    "#Accuracy will help in identifying if correct labels are getting picked-up\n",
    "model.compile(optimizer=adamax,loss='categorical_crossentropy',metrics=['accuracy'])\n",
    "\n",
    "# Fitting the model\n",
    "call=callbacks.EarlyStopping(patience=10,min_delta=0.0001,restore_best_weights=True)\n",
    "# Defining earlystopping callback to save time.\n",
    "history=model.fit(xtr,ytr,validation_data=(xval,yval),batch_size=28,epochs=50,callbacks=[call])"
   ]
  },
  {
   "cell_type": "code",
   "execution_count": 24,
   "id": "d2d2e8ce",
   "metadata": {},
   "outputs": [
    {
     "name": "stdout",
     "output_type": "stream",
     "text": [
      "18/18 [==============================] - 1s 58ms/step - loss: 0.0596 - accuracy: 0.9809\n"
     ]
    },
    {
     "data": {
      "text/plain": [
       "[0.0596395879983902, 0.9809027910232544]"
      ]
     },
     "execution_count": 24,
     "metadata": {},
     "output_type": "execute_result"
    }
   ],
   "source": [
    "model.evaluate(xte,yte)"
   ]
  },
  {
   "cell_type": "code",
   "execution_count": null,
   "id": "5bc8afb6",
   "metadata": {},
   "outputs": [],
   "source": []
  },
  {
   "cell_type": "code",
   "execution_count": null,
   "id": "531d7405",
   "metadata": {},
   "outputs": [],
   "source": []
  }
 ],
 "metadata": {
  "kernelspec": {
   "display_name": "Python 3 (ipykernel)",
   "language": "python",
   "name": "python3"
  },
  "language_info": {
   "codemirror_mode": {
    "name": "ipython",
    "version": 3
   },
   "file_extension": ".py",
   "mimetype": "text/x-python",
   "name": "python",
   "nbconvert_exporter": "python",
   "pygments_lexer": "ipython3",
   "version": "3.9.7"
  }
 },
 "nbformat": 4,
 "nbformat_minor": 5
}
